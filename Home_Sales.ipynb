{
 "cells": [
  {
   "cell_type": "code",
   "execution_count": 1,
   "metadata": {
    "colab": {
     "base_uri": "https://localhost:8080/"
    },
    "id": "a_KW73O2e3dw",
    "outputId": "fa5fd2b3-e2de-491b-ee1c-405317ba7ebc"
   },
   "outputs": [],
   "source": [
    "# Import findspark and initialize. \n",
    "import findspark\n",
    "findspark.init()"
   ]
  },
  {
   "cell_type": "code",
   "execution_count": 5,
   "metadata": {
    "id": "2XbWNf1Te5fM"
   },
   "outputs": [],
   "source": [
    "# Import packages\n",
    "from pyspark.sql import SparkSession\n",
    "import time\n",
    "\n",
    "# Create a SparkSession\n",
    "spark = SparkSession.builder.appName(\"SparkSQL\").getOrCreate()"
   ]
  },
  {
   "cell_type": "code",
   "execution_count": 8,
   "metadata": {
    "colab": {
     "base_uri": "https://localhost:8080/"
    },
    "id": "wOJqxG_RPSwp",
    "outputId": "7857ef9f-5b04-405d-f5aa-e535dfe7870c"
   },
   "outputs": [],
   "source": [
    "# 1. Read in the AWS S3 bucket into a DataFrame.\n",
    "from pyspark import SparkFiles\n",
    "url = \"https://2u-data-curriculum-team.s3.amazonaws.com/dataviz-classroom/v1.2/22-big-data/home_sales_revised.csv\"\n",
    "\n",
    "import requests\n",
    "\n",
    "# URL of the file\n",
    "url = \"https://2u-data-curriculum-team.s3.amazonaws.com/dataviz-classroom/v1.2/22-big-data/home_sales_revised.csv\"\n",
    "\n",
    "# Download the file\n",
    "r = requests.get(url)\n",
    "with open('home_sales_revised.csv', 'wb') as f:\n",
    "    f.write(r.content)\n",
    "\n",
    "# Now read the downloaded file into a Spark DataFrame\n",
    "home_sales_df = spark.read.csv('home_sales_revised.csv', header=True, inferSchema=True)"
   ]
  },
  {
   "cell_type": "code",
   "execution_count": 18,
   "metadata": {
    "id": "RoljcJ7WPpnm"
   },
   "outputs": [
    {
     "data": {
      "text/plain": [
       "['id',\n",
       " 'date',\n",
       " 'date_built',\n",
       " 'price',\n",
       " 'bedrooms',\n",
       " 'bathrooms',\n",
       " 'sqft_living',\n",
       " 'sqft_lot',\n",
       " 'floors',\n",
       " 'waterfront',\n",
       " 'view']"
      ]
     },
     "execution_count": 18,
     "metadata": {},
     "output_type": "execute_result"
    }
   ],
   "source": [
    "# 2. Create a temporary view of the DataFrame.\n",
    "home_sales_df.createOrReplaceTempView(\"home_sales\")\n",
    "home_sales_df.columns"
   ]
  },
  {
   "cell_type": "code",
   "execution_count": 19,
   "metadata": {
    "colab": {
     "base_uri": "https://localhost:8080/"
    },
    "id": "L6fkwOeOmqvq",
    "outputId": "bdded620-79c4-488d-c7a5-91c6799c419e"
   },
   "outputs": [
    {
     "name": "stdout",
     "output_type": "stream",
     "text": [
      "+----+---------+\n",
      "|year|avg_price|\n",
      "+----+---------+\n",
      "|2019| 300263.7|\n",
      "|2020|298353.78|\n",
      "|2021|301819.44|\n",
      "|2022|296363.88|\n",
      "+----+---------+\n",
      "\n"
     ]
    }
   ],
   "source": [
    "# 3. What is the average price for a four bedroom house sold in each year rounded to two decimal places?\n",
    "\n",
    "query = \"\"\"\n",
    "SELECT \n",
    "    YEAR(date) AS year, \n",
    "    ROUND(AVG(price), 2) AS avg_price\n",
    "FROM home_sales\n",
    "WHERE bedrooms = 4\n",
    "GROUP BY year\n",
    "ORDER BY year\n",
    "\"\"\"\n",
    "\n",
    "# Execute the query\n",
    "avg_price_df = spark.sql(query)\n",
    "\n",
    "# Show the results\n",
    "avg_price_df.show()"
   ]
  },
  {
   "cell_type": "code",
   "execution_count": 20,
   "metadata": {
    "colab": {
     "base_uri": "https://localhost:8080/"
    },
    "id": "l8p_tUS8h8it",
    "outputId": "65806e5f-6262-41c0-ff65-5107464e5c4d"
   },
   "outputs": [
    {
     "name": "stdout",
     "output_type": "stream",
     "text": [
      "+----------+---------+\n",
      "|date_built|avg_price|\n",
      "+----------+---------+\n",
      "|      2010|292859.62|\n",
      "|      2011|291117.47|\n",
      "|      2012|293683.19|\n",
      "|      2013|295962.27|\n",
      "|      2014|290852.27|\n",
      "|      2015| 288770.3|\n",
      "|      2016|290555.07|\n",
      "|      2017|292676.79|\n",
      "+----------+---------+\n",
      "\n"
     ]
    }
   ],
   "source": [
    "# 4. What is the average price of a home for each year the home was built that have 3 bedrooms and 3 bathrooms rounded to two decimal places?\n",
    "# SQL Query\n",
    "query = \"\"\"\n",
    "SELECT \n",
    "    date_built, \n",
    "    ROUND(AVG(price), 2) AS avg_price\n",
    "FROM home_sales\n",
    "WHERE bedrooms = 3 AND bathrooms = 3\n",
    "GROUP BY date_built\n",
    "ORDER BY date_built\n",
    "\"\"\"\n",
    "\n",
    "# Execute the query\n",
    "avg_price_per_year_built_df = spark.sql(query)\n",
    "\n",
    "# Show the results\n",
    "avg_price_per_year_built_df.show()\n"
   ]
  },
  {
   "cell_type": "code",
   "execution_count": 21,
   "metadata": {
    "colab": {
     "base_uri": "https://localhost:8080/"
    },
    "id": "Y-Eytz64liDU",
    "outputId": "17119810-56ad-40c3-de5e-c3db57e43bcc"
   },
   "outputs": [
    {
     "name": "stdout",
     "output_type": "stream",
     "text": [
      "+----------+---------+\n",
      "|date_built|avg_price|\n",
      "+----------+---------+\n",
      "|      2010|285010.22|\n",
      "|      2011|276553.81|\n",
      "|      2012|307539.97|\n",
      "|      2013|303676.79|\n",
      "|      2014|298264.72|\n",
      "|      2015|297609.97|\n",
      "|      2016| 293965.1|\n",
      "|      2017|280317.58|\n",
      "+----------+---------+\n",
      "\n"
     ]
    }
   ],
   "source": [
    "#  5. What is the average price of a home for each year built that have 3 bedrooms, 3 bathrooms, with two floors,\n",
    "# and are greater than or equal to 2,000 square feet rounded to two decimal places?\n",
    "\n",
    "query = \"\"\"\n",
    "SELECT \n",
    "    date_built, \n",
    "    ROUND(AVG(price), 2) AS avg_price\n",
    "FROM home_sales\n",
    "WHERE bedrooms = 3 AND bathrooms = 3 AND floors = 2 AND sqft_living >= 2000\n",
    "GROUP BY date_built\n",
    "ORDER BY date_built\n",
    "\"\"\"\n",
    "\n",
    "# Execute the query\n",
    "avg_price_criteria_df = spark.sql(query)\n",
    "\n",
    "# Show the results\n",
    "avg_price_criteria_df.show()"
   ]
  },
  {
   "cell_type": "code",
   "execution_count": 23,
   "metadata": {
    "colab": {
     "base_uri": "https://localhost:8080/"
    },
    "id": "GUrfgOX1pCRd",
    "outputId": "17c25774-855e-4290-a4bd-a04902bdc13a"
   },
   "outputs": [
    {
     "name": "stdout",
     "output_type": "stream",
     "text": [
      "+----+----------+\n",
      "|view| avg_price|\n",
      "+----+----------+\n",
      "|  31| 399856.95|\n",
      "|  85|1056336.74|\n",
      "|  65| 736679.93|\n",
      "|  53|  755214.8|\n",
      "|  78|1080649.37|\n",
      "|  34| 401419.75|\n",
      "|  81|1053472.79|\n",
      "|  28| 402124.62|\n",
      "|  76|1058802.78|\n",
      "|  26| 401506.97|\n",
      "|  27| 399537.66|\n",
      "|  44| 400598.05|\n",
      "|  12| 401501.32|\n",
      "|  91|1137372.73|\n",
      "|  22| 402022.68|\n",
      "|  93|1026006.06|\n",
      "|  47|  398447.5|\n",
      "|   1| 401044.25|\n",
      "|  52| 733780.26|\n",
      "|  13| 398917.98|\n",
      "+----+----------+\n",
      "only showing top 20 rows\n",
      "\n",
      "--- runtime = 0.17539095878601074 seconds ---\n"
     ]
    }
   ],
   "source": [
    "# 6. What is the \"view\" rating for the average price of a home, rounded to two decimal places, where the homes are greater than\n",
    "# or equal to $350,000? Although this is a small dataset, determine the run time for this query.\n",
    "\n",
    "from pyspark.sql import functions as F\n",
    "\n",
    "start_time = time.time()\n",
    "\n",
    "query = \"\"\"\n",
    "SELECT \n",
    "    view, \n",
    "    ROUND(AVG(price), 2) AS avg_price\n",
    "FROM home_sales\n",
    "WHERE price >= 350000\n",
    "GROUP BY view\n",
    "\"\"\"\n",
    "\n",
    "# Execute the query\n",
    "avg_price_view_df = spark.sql(query)\n",
    "\n",
    "avg_price_view_df.show()\n",
    "print(\"--- runtime = %s seconds ---\" % (time.time() - start_time))"
   ]
  },
  {
   "cell_type": "code",
   "execution_count": 37,
   "metadata": {
    "colab": {
     "base_uri": "https://localhost:8080/"
    },
    "id": "5GnL46lwTSEk",
    "outputId": "09a16c73-194d-4371-95d1-ee64fe83b91c"
   },
   "outputs": [
    {
     "name": "stdout",
     "output_type": "stream",
     "text": [
      "+----+----------+\n",
      "|view| avg_price|\n",
      "+----+----------+\n",
      "|  31| 399856.95|\n",
      "|  85|1056336.74|\n",
      "|  65| 736679.93|\n",
      "|  53|  755214.8|\n",
      "|  78|1080649.37|\n",
      "|  34| 401419.75|\n",
      "|  81|1053472.79|\n",
      "|  28| 402124.62|\n",
      "|  76|1058802.78|\n",
      "|  26| 401506.97|\n",
      "|  27| 399537.66|\n",
      "|  44| 400598.05|\n",
      "|  12| 401501.32|\n",
      "|  91|1137372.73|\n",
      "|  22| 402022.68|\n",
      "|  93|1026006.06|\n",
      "|  47|  398447.5|\n",
      "|   1| 401044.25|\n",
      "|  52| 733780.26|\n",
      "|  13| 398917.98|\n",
      "+----+----------+\n",
      "only showing top 20 rows\n",
      "\n"
     ]
    },
    {
     "name": "stderr",
     "output_type": "stream",
     "text": [
      "23/11/10 15:33:11 WARN CacheManager: Asked to cache already cached data.\n"
     ]
    },
    {
     "ename": "TypeError",
     "evalue": "collect() takes 1 positional argument but 2 were given",
     "output_type": "error",
     "traceback": [
      "\u001b[0;31m---------------------------------------------------------------------------\u001b[0m",
      "\u001b[0;31mTypeError\u001b[0m                                 Traceback (most recent call last)",
      "\u001b[1;32m/Users/jnorth/Documents/GitHub/Home_Sales/Home_Sales.ipynb Cell 9\u001b[0m line \u001b[0;36m2\n\u001b[1;32m     <a href='vscode-notebook-cell:/Users/jnorth/Documents/GitHub/Home_Sales/Home_Sales.ipynb#X13sZmlsZQ%3D%3D?line=23'>24</a>\u001b[0m \u001b[39m# Measure runtime for cached data\u001b[39;00m\n\u001b[1;32m     <a href='vscode-notebook-cell:/Users/jnorth/Documents/GitHub/Home_Sales/Home_Sales.ipynb#X13sZmlsZQ%3D%3D?line=24'>25</a>\u001b[0m start_time_cached \u001b[39m=\u001b[39m time\u001b[39m.\u001b[39mtime()\n\u001b[0;32m---> <a href='vscode-notebook-cell:/Users/jnorth/Documents/GitHub/Home_Sales/Home_Sales.ipynb#X13sZmlsZQ%3D%3D?line=25'>26</a>\u001b[0m result \u001b[39m=\u001b[39m spark\u001b[39m.\u001b[39;49msql(query)\u001b[39m.\u001b[39;49mcollect(\u001b[39m1\u001b[39;49m) \u001b[39m#using 'collect' to execute the query without showing\u001b[39;00m\n\u001b[1;32m     <a href='vscode-notebook-cell:/Users/jnorth/Documents/GitHub/Home_Sales/Home_Sales.ipynb#X13sZmlsZQ%3D%3D?line=26'>27</a>\u001b[0m end_time_cached \u001b[39m=\u001b[39m time\u001b[39m.\u001b[39mtime()\n\u001b[1;32m     <a href='vscode-notebook-cell:/Users/jnorth/Documents/GitHub/Home_Sales/Home_Sales.ipynb#X13sZmlsZQ%3D%3D?line=27'>28</a>\u001b[0m runtime_cached \u001b[39m=\u001b[39m end_time_cached \u001b[39m-\u001b[39m start_time_cached\n",
      "\u001b[0;31mTypeError\u001b[0m: collect() takes 1 positional argument but 2 were given"
     ]
    }
   ],
   "source": [
    "# 9. Using the cached data, run the query that filters out the view ratings with average price \n",
    "#  greater than or equal to $350,000. Determine the runtime and compare it to uncached runtime.\n",
    "\n",
    "# First, run query as usual for uncached runtime\n",
    "query = \"\"\"\n",
    "SELECT \n",
    "    view, \n",
    "    ROUND(AVG(price), 2) AS avg_price\n",
    "FROM home_sales\n",
    "WHERE price >= 350000\n",
    "GROUP BY view\n",
    "\"\"\"\n",
    "\n",
    "# Measure runtime for uncached data\n",
    "start_time_uncached = time.time()\n",
    "spark.sql(query).show()\n",
    "end_time_uncached = time.time()\n",
    "runtime_uncached = end_time_uncached - start_time_uncached\n",
    "\n",
    "\n",
    "# Now, cache the temporary table\n",
    "spark.catalog.cacheTable(\"home_sales\")\n",
    "\n",
    "# Measure runtime for cached data\n",
    "start_time_cached = time.time()\n",
    "result = spark.sql(query).collect() #using 'collect' to execute the query without showing\n",
    "end_time_cached = time.time()\n",
    "runtime_cached = end_time_cached - start_time_cached\n",
    "\n",
    "# Measure the difference\n",
    "runtime_diff = runtime_uncached - runtime_cached\n",
    "\n",
    "\n",
    "print(f\"Runtime uncached: {runtime_uncached} seconds\")\n",
    "print(f\"Runtime cached: {runtime_cached} seconds\")\n",
    "print (f\"A difference of {runtime_diff} seconds\")\n"
   ]
  },
  {
   "cell_type": "code",
   "execution_count": 28,
   "metadata": {
    "id": "Qm12WN9isHBR"
   },
   "outputs": [
    {
     "name": "stderr",
     "output_type": "stream",
     "text": [
      "                                                                                \r"
     ]
    }
   ],
   "source": [
    "# 10. Partition by the \"date_built\" field on the formatted parquet home sales data \n",
    "home_sales_df.write.parquet(\"parquet_home_sales\")"
   ]
  },
  {
   "cell_type": "code",
   "execution_count": 35,
   "metadata": {
    "id": "AZ7BgY61sRqY"
   },
   "outputs": [],
   "source": [
    "# 11. Read the formatted parquet data.\n",
    "home_sales_parquet_df = spark.read.parquet(\"parquet_home_sales\")"
   ]
  },
  {
   "cell_type": "code",
   "execution_count": 36,
   "metadata": {
    "id": "J6MJkHfvVcvh"
   },
   "outputs": [],
   "source": [
    "# 12. Create a temporary table for the parquet data.\n",
    "home_sales_parquet_df.createOrReplaceTempView(\"home_sales_parquet_view\")"
   ]
  },
  {
   "cell_type": "code",
   "execution_count": 38,
   "metadata": {
    "colab": {
     "base_uri": "https://localhost:8080/"
    },
    "id": "G_Vhb52rU1Sn",
    "outputId": "a0b8d0c4-55ed-4c6c-bfd8-4c8c5334838e"
   },
   "outputs": [
    {
     "name": "stdout",
     "output_type": "stream",
     "text": [
      "+----+----------+\n",
      "|view| avg_price|\n",
      "+----+----------+\n",
      "|  31| 399856.95|\n",
      "|  85|1056336.74|\n",
      "|  65| 736679.93|\n",
      "|  53|  755214.8|\n",
      "|  78|1080649.37|\n",
      "|  34| 401419.75|\n",
      "|  81|1053472.79|\n",
      "|  28| 402124.62|\n",
      "|  76|1058802.78|\n",
      "|  26| 401506.97|\n",
      "|  27| 399537.66|\n",
      "|  44| 400598.05|\n",
      "|  12| 401501.32|\n",
      "|  91|1137372.73|\n",
      "|  22| 402022.68|\n",
      "|  93|1026006.06|\n",
      "|  47|  398447.5|\n",
      "|   1| 401044.25|\n",
      "|  52| 733780.26|\n",
      "|  13| 398917.98|\n",
      "+----+----------+\n",
      "only showing top 20 rows\n",
      "\n",
      "Runtime on Parquet data: 0.2845158576965332 seconds\n",
      "Runtime on Cached data: 0.07106924057006836 seconds\n",
      "Difference in runtime: 0.21344661712646484 seconds\n"
     ]
    }
   ],
   "source": [
    "# 13. Run the query that filters out the view ratings with average price of greater than or eqaul to $350,000 \n",
    "# with the parquet DataFrame. Round your average to two decimal places. \n",
    "# Determine the runtime and compare it to the cached version. \n",
    "\n",
    "query = \"\"\"\n",
    "SELECT \n",
    "    view, \n",
    "    ROUND(AVG(price), 2) AS avg_price\n",
    "FROM home_sales_parquet_view \n",
    "WHERE price >= 350000\n",
    "GROUP BY view\n",
    "\"\"\"\n",
    "\n",
    "# Measure runtime for the query on Parquet data\n",
    "start_time_parquet = time.time()\n",
    "spark.sql(query).show() \n",
    "end_time_parquet = time.time()\n",
    "runtime_parquet = end_time_parquet - start_time_parquet\n",
    "\n",
    "# Measure runtime for the query on Cached data \n",
    "# (replacing \"home_sales_parquet_view\" with \"home_sales\" to use the same query)\n",
    "start_time_cached = time.time()\n",
    "result = spark.sql(query.replace(\"home_sales_parquet_view\", \"home_sales\")).collect() #using 'collect' to execute the query without showing\n",
    "end_time_cached = time.time()\n",
    "runtime_cached = end_time_cached - start_time_cached\n",
    "\n",
    "# Print the results\n",
    "print(f\"Runtime on Parquet data: {runtime_parquet} seconds\")\n",
    "print(f\"Runtime on Cached data: {runtime_cached} seconds\")\n",
    "print(f\"Difference in runtime: {abs(runtime_parquet - runtime_cached)} seconds\")\n"
   ]
  },
  {
   "cell_type": "code",
   "execution_count": 39,
   "metadata": {
    "colab": {
     "base_uri": "https://localhost:8080/"
    },
    "id": "hjjYzQGjtbq8",
    "outputId": "830549fd-bb41-451b-9183-5ebf6e3e470b"
   },
   "outputs": [],
   "source": [
    "# 14. Uncache the home_sales temporary table.\n",
    "spark.catalog.uncacheTable(\"home_sales\")\n"
   ]
  },
  {
   "cell_type": "code",
   "execution_count": 42,
   "metadata": {
    "colab": {
     "base_uri": "https://localhost:8080/"
    },
    "id": "Sy9NBvO7tlmm",
    "outputId": "be73e0e3-5e85-4794-aad9-025fb6fa84a7"
   },
   "outputs": [
    {
     "data": {
      "text/plain": [
       "False"
      ]
     },
     "execution_count": 42,
     "metadata": {},
     "output_type": "execute_result"
    }
   ],
   "source": [
    "# 15. Check if the home_sales is no longer cached\n",
    "spark.catalog.isCached(\"home_sales\")"
   ]
  }
 ],
 "metadata": {
  "colab": {
   "collapsed_sections": [],
   "name": "Copy of Home_Sales_solution.ipynb",
   "provenance": []
  },
  "kernelspec": {
   "display_name": "Python 3 (ipykernel)",
   "language": "python",
   "name": "python3"
  },
  "language_info": {
   "codemirror_mode": {
    "name": "ipython",
    "version": 3
   },
   "file_extension": ".py",
   "mimetype": "text/x-python",
   "name": "python",
   "nbconvert_exporter": "python",
   "pygments_lexer": "ipython3",
   "version": "3.9.6"
  },
  "nteract": {
   "version": "0.28.0"
  }
 },
 "nbformat": 4,
 "nbformat_minor": 1
}
